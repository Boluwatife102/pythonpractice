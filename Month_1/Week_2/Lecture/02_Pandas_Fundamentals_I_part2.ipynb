{
  "cells": [
    {
      "cell_type": "markdown",
      "metadata": {
        "id": "0Wbw2gRVt-Xh"
      },
      "source": [
        "# Pandas Fundamentals I - Part 2: Basic DataFrame Operations\n",
        "\n",
        "## Week 2, Day 2 (Thursday) - April 17th, 2025\n",
        "\n",
        "### Overview\n",
        "This is the second part of our introduction to Pandas, focusing on basic operations for exploring and manipulating DataFrames. We'll learn the equivalent Pandas operations for common SQL tasks.\n",
        "\n",
        "### Learning Objectives\n",
        "- Inspect and understand DataFrame structure\n",
        "- Access and manipulate DataFrame elements\n",
        "- Handle missing data\n",
        "- Perform basic column operations\n",
        "\n",
        "### Prerequisites\n",
        "- Pandas Fundamentals I - Part 1"
      ]
    },
    {
      "cell_type": "code",
      "execution_count": 2,
      "metadata": {
        "id": "7LwgLBOHt-Xl",
        "outputId": "adf5a19c-7289-43a3-8241-2fc94ab41235",
        "colab": {
          "base_uri": "https://localhost:8080/"
        }
      },
      "outputs": [
        {
          "output_type": "stream",
          "name": "stdout",
          "text": [
            "  product_id product_name     category  price  stock_quantity  rating\n",
            "0       P001       Laptop  Electronics   1200              15     4.5\n",
            "1       P002   Smartphone  Electronics    800              25     4.8\n",
            "2       P003       Tablet  Electronics    450               0     4.2\n",
            "3       P004   Headphones  Accessories    150              30     4.6\n",
            "4       P005      Monitor  Electronics    300              10     NaN\n"
          ]
        }
      ],
      "source": [
        "# Import libraries\n",
        "import pandas as pd\n",
        "import numpy as np\n",
        "\n",
        "# Create a sample DataFrame to work with\n",
        "data = {\n",
        "    'product_id': ['P001', 'P002', 'P003', 'P004', 'P005'],\n",
        "    'product_name': ['Laptop', 'Smartphone', 'Tablet', 'Headphones', 'Monitor'],\n",
        "    'category': ['Electronics', 'Electronics', 'Electronics', 'Accessories', 'Electronics'],\n",
        "    'price': [1200, 800, 450, 150, 300],\n",
        "    'stock_quantity': [15, 25, 0, 30, 10],\n",
        "    'rating': [4.5, 4.8, 4.2, 4.6, np.nan]  # Note the missing value (np.nan)\n",
        "}\n",
        "\n",
        "products_df = pd.DataFrame(data)\n",
        "print(products_df)"
      ]
    },
    {
      "cell_type": "markdown",
      "metadata": {
        "id": "SxKKdPhut-Xm"
      },
      "source": [
        "## 1. DataFrame Inspection\n",
        "\n",
        "Before diving into data analysis, it's important to inspect and understand your data. Pandas provides several methods for this purpose."
      ]
    },
    {
      "cell_type": "code",
      "execution_count": 2,
      "metadata": {
        "id": "Youxz1JUt-Xn",
        "outputId": "6a96d87b-94b5-4cf9-b16b-a335ef42b5d0",
        "colab": {
          "base_uri": "https://localhost:8080/"
        }
      },
      "outputs": [
        {
          "output_type": "stream",
          "name": "stdout",
          "text": [
            "First 3 rows:\n",
            "  product_id product_name     category  price  stock_quantity  rating\n",
            "0       P001       Laptop  Electronics   1200              15     4.5\n",
            "1       P002   Smartphone  Electronics    800              25     4.8\n",
            "2       P003       Tablet  Electronics    450               0     4.2\n",
            "\n",
            "Last 2 rows:\n",
            "  product_id product_name     category  price  stock_quantity  rating\n",
            "3       P004   Headphones  Accessories    150              30     4.6\n",
            "4       P005      Monitor  Electronics    300              10     NaN\n"
          ]
        }
      ],
      "source": [
        "# View the first n rows (default is 5)\n",
        "print(\"First 3 rows:\")\n",
        "print(products_df.head(3))\n",
        "\n",
        "# View the last n rows (default is 5)\n",
        "print(\"\\nLast 2 rows:\")\n",
        "print(products_df.tail(2))"
      ]
    },
    {
      "cell_type": "code",
      "execution_count": 3,
      "metadata": {
        "id": "gwyAKoOvt-Xn",
        "outputId": "a6251566-94ca-443e-ffbb-e43c194b4848",
        "colab": {
          "base_uri": "https://localhost:8080/"
        }
      },
      "outputs": [
        {
          "output_type": "stream",
          "name": "stdout",
          "text": [
            "DataFrame info:\n",
            "<class 'pandas.core.frame.DataFrame'>\n",
            "RangeIndex: 5 entries, 0 to 4\n",
            "Data columns (total 6 columns):\n",
            " #   Column          Non-Null Count  Dtype  \n",
            "---  ------          --------------  -----  \n",
            " 0   product_id      5 non-null      object \n",
            " 1   product_name    5 non-null      object \n",
            " 2   category        5 non-null      object \n",
            " 3   price           5 non-null      int64  \n",
            " 4   stock_quantity  5 non-null      int64  \n",
            " 5   rating          4 non-null      float64\n",
            "dtypes: float64(1), int64(2), object(3)\n",
            "memory usage: 372.0+ bytes\n"
          ]
        }
      ],
      "source": [
        "# Get basic information about the DataFrame\n",
        "print(\"DataFrame info:\")\n",
        "products_df.info()"
      ]
    },
    {
      "cell_type": "markdown",
      "metadata": {
        "id": "sqlhSjEct-Xo"
      },
      "source": [
        "The `info()` method provides key information about the DataFrame:\n",
        "- The number of rows and columns\n",
        "- The column names and data types\n",
        "- Non-null values for each column\n",
        "- Memory usage\n",
        "\n",
        "This is similar to getting table schema information in SQL."
      ]
    },
    {
      "cell_type": "code",
      "execution_count": 4,
      "metadata": {
        "id": "_3cfkmUmt-Xo",
        "outputId": "4ceee8c7-1010-41af-ef4f-1d6314b3f9a6",
        "colab": {
          "base_uri": "https://localhost:8080/"
        }
      },
      "outputs": [
        {
          "output_type": "stream",
          "name": "stdout",
          "text": [
            "Summary statistics:\n",
            "             price  stock_quantity  rating\n",
            "count     5.000000        5.000000   4.000\n",
            "mean    580.000000       16.000000   4.525\n",
            "std     422.196637       11.937336   0.250\n",
            "min     150.000000        0.000000   4.200\n",
            "25%     300.000000       10.000000   4.425\n",
            "50%     450.000000       15.000000   4.550\n",
            "75%     800.000000       25.000000   4.650\n",
            "max    1200.000000       30.000000   4.800\n"
          ]
        }
      ],
      "source": [
        "# Get summary statistics for numeric columns\n",
        "print(\"Summary statistics:\")\n",
        "print(products_df.describe())"
      ]
    },
    {
      "cell_type": "markdown",
      "metadata": {
        "id": "KVCAVilBt-Xp"
      },
      "source": [
        "The `describe()` method provides descriptive statistics for numeric columns:\n",
        "- count: number of non-missing values\n",
        "- mean, std (standard deviation): measures of central tendency and dispersion\n",
        "- min, 25%, 50% (median), 75%, max: percentiles\n",
        "\n",
        "This is similar to aggregate functions in SQL like COUNT(), AVG(), MIN(), MAX(), etc."
      ]
    },
    {
      "cell_type": "code",
      "execution_count": 5,
      "metadata": {
        "id": "ZdGgvMGkt-Xp",
        "outputId": "ead89b16-7cc1-4f05-f5d2-6d7f10812047",
        "colab": {
          "base_uri": "https://localhost:8080/"
        }
      },
      "outputs": [
        {
          "output_type": "stream",
          "name": "stdout",
          "text": [
            "Category counts:\n",
            "category\n",
            "Electronics    4\n",
            "Accessories    1\n",
            "Name: count, dtype: int64\n",
            "\n",
            "Describe categorical columns:\n",
            "       product_id product_name     category\n",
            "count           5            5            5\n",
            "unique          5            5            2\n",
            "top          P001       Laptop  Electronics\n",
            "freq            1            1            4\n"
          ]
        }
      ],
      "source": [
        "# Get descriptive statistics for categorical columns\n",
        "print(\"Category counts:\")\n",
        "print(products_df['category'].value_counts())\n",
        "\n",
        "# You can also use describe() with include/exclude parameters\n",
        "print(\"\\nDescribe categorical columns:\")\n",
        "print(products_df.describe(include=['object']))  # 'object' is pandas' string type"
      ]
    },
    {
      "cell_type": "markdown",
      "metadata": {
        "id": "bMFL1_BEt-Xp"
      },
      "source": [
        "### Additional inspection methods"
      ]
    },
    {
      "cell_type": "code",
      "execution_count": 6,
      "metadata": {
        "id": "aKYMLZS_t-Xq",
        "outputId": "07288f00-1ecd-4aff-8eca-ec1b34ad1e8d",
        "colab": {
          "base_uri": "https://localhost:8080/"
        }
      },
      "outputs": [
        {
          "output_type": "stream",
          "name": "stdout",
          "text": [
            "Column names: ['product_id', 'product_name', 'category', 'price', 'stock_quantity', 'rating']\n",
            "\n",
            "Row index: [0, 1, 2, 3, 4]\n",
            "\n",
            "DataFrame shape: (5, 6)\n",
            "\n",
            "Unique categories: ['Electronics' 'Accessories']\n"
          ]
        }
      ],
      "source": [
        "# Column names\n",
        "print(\"Column names:\", products_df.columns.tolist())\n",
        "\n",
        "# Row index\n",
        "print(\"\\nRow index:\", products_df.index.tolist())\n",
        "\n",
        "# DataFrame dimensions (rows, columns)\n",
        "print(\"\\nDataFrame shape:\", products_df.shape)\n",
        "\n",
        "# Unique values in a column\n",
        "print(\"\\nUnique categories:\", products_df['category'].unique())"
      ]
    },
    {
      "cell_type": "markdown",
      "metadata": {
        "id": "qvCLwnDHt-Xq"
      },
      "source": [
        "## 2. Accessing Columns and Rows\n",
        "\n",
        "Now let's look at different ways to access data within a DataFrame."
      ]
    },
    {
      "cell_type": "code",
      "execution_count": 7,
      "metadata": {
        "id": "Y7pSj26zt-Xq",
        "outputId": "a130c3c8-6c46-4e8b-9e3a-9c29f13621e7",
        "colab": {
          "base_uri": "https://localhost:8080/"
        }
      },
      "outputs": [
        {
          "output_type": "stream",
          "name": "stdout",
          "text": [
            "Prices:\n",
            " 0    1200\n",
            "1     800\n",
            "2     450\n",
            "3     150\n",
            "4     300\n",
            "Name: price, dtype: int64\n",
            "Type: <class 'pandas.core.series.Series'>\n"
          ]
        }
      ],
      "source": [
        "# Accessing a single column (returns a Series)\n",
        "prices = products_df['price']\n",
        "print(\"Prices:\\n\", prices)\n",
        "print(\"Type:\", type(prices))"
      ]
    },
    {
      "cell_type": "code",
      "execution_count": 8,
      "metadata": {
        "id": "YrwKWf03t-Xq",
        "outputId": "9985914a-9ac4-4602-ebfa-5e43457efd54",
        "colab": {
          "base_uri": "https://localhost:8080/"
        }
      },
      "outputs": [
        {
          "output_type": "stream",
          "name": "stdout",
          "text": [
            "Prices (dot notation):\n",
            " 0    1200\n",
            "1     800\n",
            "2     450\n",
            "3     150\n",
            "4     300\n",
            "Name: price, dtype: int64\n"
          ]
        }
      ],
      "source": [
        "# Alternative column access using dot notation\n",
        "# Note: This only works for column names that could be valid Python variable names\n",
        "# and don't conflict with DataFrame method names\n",
        "prices_alt = products_df.price\n",
        "print(\"Prices (dot notation):\\n\", prices_alt)"
      ]
    },
    {
      "cell_type": "code",
      "execution_count": 3,
      "metadata": {
        "id": "AkAWfngGt-Xq",
        "outputId": "3dbb6d58-7177-4bd9-e9fa-cd96dc2741f0",
        "colab": {
          "base_uri": "https://localhost:8080/"
        }
      },
      "outputs": [
        {
          "output_type": "stream",
          "name": "stdout",
          "text": [
            "Product info:\n",
            "   product_name  price  rating\n",
            "0       Laptop   1200     4.5\n",
            "1   Smartphone    800     4.8\n",
            "2       Tablet    450     4.2\n",
            "3   Headphones    150     4.6\n",
            "4      Monitor    300     NaN\n",
            "Type: <class 'pandas.core.frame.DataFrame'>\n"
          ]
        }
      ],
      "source": [
        "# Accessing multiple columns (returns a DataFrame)\n",
        "product_info = products_df[['product_name', 'price', 'rating']]\n",
        "print(\"Product info:\\n\", product_info)\n",
        "print(\"Type:\", type(product_info))"
      ]
    },
    {
      "cell_type": "markdown",
      "metadata": {
        "id": "9gYeQBkut-Xr"
      },
      "source": [
        "### Accessing rows"
      ]
    },
    {
      "cell_type": "code",
      "execution_count": 4,
      "metadata": {
        "id": "f-NlY0yat-Xr",
        "outputId": "a08aa8a7-48b4-4a08-d62e-138267297e66",
        "colab": {
          "base_uri": "https://localhost:8080/"
        }
      },
      "outputs": [
        {
          "output_type": "stream",
          "name": "stdout",
          "text": [
            "First row:\n",
            " product_id               P001\n",
            "product_name           Laptop\n",
            "category          Electronics\n",
            "price                    1200\n",
            "stock_quantity             15\n",
            "rating                    4.5\n",
            "Name: 0, dtype: object\n",
            "Type: <class 'pandas.core.series.Series'>\n"
          ]
        }
      ],
      "source": [
        "# Accessing a row by position using iloc\n",
        "# iloc uses integer-based indexing [row, column]\n",
        "first_row = products_df.iloc[0]\n",
        "print(\"First row:\\n\", first_row)\n",
        "print(\"Type:\", type(first_row))"
      ]
    },
    {
      "cell_type": "code",
      "execution_count": 5,
      "metadata": {
        "id": "710bxELct-Xr",
        "outputId": "b870d2ab-b549-4e6b-fa39-bec280cf221a",
        "colab": {
          "base_uri": "https://localhost:8080/"
        }
      },
      "outputs": [
        {
          "output_type": "stream",
          "name": "stdout",
          "text": [
            "First three rows:\n",
            "   product_id product_name     category  price  stock_quantity  rating\n",
            "0       P001       Laptop  Electronics   1200              15     4.5\n",
            "1       P002   Smartphone  Electronics    800              25     4.8\n",
            "2       P003       Tablet  Electronics    450               0     4.2\n"
          ]
        }
      ],
      "source": [
        "# Accessing multiple rows with iloc\n",
        "first_three_rows = products_df.iloc[0:3]\n",
        "print(\"First three rows:\\n\", first_three_rows)"
      ]
    },
    {
      "cell_type": "code",
      "execution_count": 6,
      "metadata": {
        "id": "P78XdMqlt-Xr",
        "outputId": "5f631793-ab47-47ca-885a-540d4e5bfad7",
        "colab": {
          "base_uri": "https://localhost:8080/"
        }
      },
      "outputs": [
        {
          "output_type": "stream",
          "name": "stdout",
          "text": [
            "Subset of rows and columns:\n",
            "   product_id product_name  price\n",
            "1       P002   Smartphone    800\n",
            "2       P003       Tablet    450\n",
            "3       P004   Headphones    150\n"
          ]
        }
      ],
      "source": [
        "# Accessing specific rows and columns with iloc\n",
        "# iloc[row_selector, column_selector]\n",
        "subset = products_df.iloc[1:4, [0, 1, 3]]  # Rows 1-3, columns 0, 1, and 3\n",
        "print(\"Subset of rows and columns:\\n\", subset)"
      ]
    },
    {
      "cell_type": "code",
      "execution_count": 7,
      "metadata": {
        "id": "kSqLVbfSt-Xr",
        "outputId": "bbcc61d5-bf5a-401b-8669-eb17f1288fdb",
        "colab": {
          "base_uri": "https://localhost:8080/"
        }
      },
      "outputs": [
        {
          "output_type": "stream",
          "name": "stdout",
          "text": [
            "Second row selected fields:\n",
            " product_id            P002\n",
            "product_name    Smartphone\n",
            "price                  800\n",
            "Name: 1, dtype: object\n"
          ]
        }
      ],
      "source": [
        "# Accessing rows and columns by label using loc\n",
        "# loc uses label-based indexing [row_label, column_label]\n",
        "# Since our index is numeric (0-4), it looks similar to iloc in this case\n",
        "second_row = products_df.loc[1, ['product_id', 'product_name', 'price']]\n",
        "print(\"Second row selected fields:\\n\", second_row)"
      ]
    },
    {
      "cell_type": "markdown",
      "metadata": {
        "id": "8N4M3TCst-Xr"
      },
      "source": [
        "### Label-based indexing with custom index\n",
        "\n",
        "Let's set the `product_id` as the index to see how label-based indexing works:"
      ]
    },
    {
      "cell_type": "code",
      "execution_count": null,
      "metadata": {
        "id": "RpskRyDGt-Xr"
      },
      "outputs": [],
      "source": [
        "# Set product_id as index\n",
        "products_indexed = products_df.set_index('product_id')\n",
        "print(products_indexed)"
      ]
    },
    {
      "cell_type": "code",
      "execution_count": null,
      "metadata": {
        "id": "cnXYenFZt-Xs"
      },
      "outputs": [],
      "source": [
        "# Now we can access rows by product_id\n",
        "laptop_row = products_indexed.loc['P001']\n",
        "print(\"Laptop details:\\n\", laptop_row)\n",
        "\n",
        "# Get specific fields for specific products\n",
        "headphones_info = products_indexed.loc['P004', ['price', 'stock_quantity']]\n",
        "print(\"\\nHeadphones price and stock:\\n\", headphones_info)"
      ]
    },
    {
      "cell_type": "markdown",
      "metadata": {
        "id": "JLB-hhLOt-Xs"
      },
      "source": [
        "### SQL equivalent for row and column selection\n",
        "\n",
        "In SQL, selecting specific columns and rows would look like:\n",
        "\n",
        "```sql\n",
        "SELECT product_name, price, rating\n",
        "FROM products\n",
        "WHERE product_id = 'P001';\n",
        "```\n",
        "\n",
        "In Pandas, this is equivalent to:"
      ]
    },
    {
      "cell_type": "code",
      "execution_count": null,
      "metadata": {
        "id": "EUnmVnbHt-Xs"
      },
      "outputs": [],
      "source": [
        "# SQL to Pandas translation\n",
        "result = products_df.loc[products_df['product_id'] == 'P001', ['product_name', 'price', 'rating']]\n",
        "print(result)"
      ]
    },
    {
      "cell_type": "markdown",
      "metadata": {
        "id": "n6HAGd6at-Xs"
      },
      "source": [
        "## 3. Basic Data Types and Conversions\n",
        "\n",
        "Let's look at data types in Pandas and how to convert between them."
      ]
    },
    {
      "cell_type": "code",
      "execution_count": 4,
      "metadata": {
        "id": "8bJypGNDt-Xs",
        "outputId": "2af0555f-9363-4529-cb2e-56611e072af4",
        "colab": {
          "base_uri": "https://localhost:8080/"
        }
      },
      "outputs": [
        {
          "output_type": "stream",
          "name": "stdout",
          "text": [
            "product_id         object\n",
            "product_name       object\n",
            "category           object\n",
            "price               int64\n",
            "stock_quantity      int64\n",
            "rating            float64\n",
            "dtype: object\n"
          ]
        }
      ],
      "source": [
        "# Check data types\n",
        "print(products_df.dtypes)"
      ]
    },
    {
      "cell_type": "markdown",
      "metadata": {
        "id": "XflognzRt-Xs"
      },
      "source": [
        "Common pandas data types include:\n",
        "- `object`: String or mixed types (similar to VARCHAR in SQL)\n",
        "- `int64`: Integer (similar to INT in SQL)\n",
        "- `float64`: Floating-point (similar to FLOAT or DOUBLE in SQL)\n",
        "- `bool`: Boolean (similar to BOOLEAN in SQL)\n",
        "- `datetime64`: Date and time (similar to DATE, DATETIME in SQL)\n",
        "- `category`: Categorical data (similar to ENUM in SQL, but more powerful)\n",
        "\n",
        "Let's convert some columns to different types:"
      ]
    },
    {
      "cell_type": "code",
      "execution_count": 9,
      "metadata": {
        "id": "KQ0Ky38et-Xs",
        "outputId": "e8108053-d49c-47e7-9578-36cd6c4dfc5b",
        "colab": {
          "base_uri": "https://localhost:8080/"
        }
      },
      "outputs": [
        {
          "output_type": "stream",
          "name": "stdout",
          "text": [
            "product_id                object\n",
            "product_name              object\n",
            "category                category\n",
            "price                      int64\n",
            "stock_quantity             int64\n",
            "rating                   float64\n",
            "last_updated      datetime64[ns]\n",
            "dtype: object\n",
            "\n",
            "Updated DataFrame:\n",
            "  product_id product_name     category  price  stock_quantity  rating  \\\n",
            "0       P001       Laptop  Electronics   1200              15     4.5   \n",
            "1       P002   Smartphone  Electronics    800              25     4.8   \n",
            "2       P003       Tablet  Electronics    450               0     4.2   \n",
            "3       P004   Headphones  Accessories    150              30     4.6   \n",
            "4       P005      Monitor  Electronics    300              10     NaN   \n",
            "\n",
            "  last_updated  \n",
            "0   2025-01-15  \n",
            "1   2025-01-20  \n",
            "2   2025-01-10  \n",
            "3   2025-01-25  \n",
            "4   2025-01-18  \n"
          ]
        }
      ],
      "source": [
        "# Convert category to categorical type (more memory efficient for repeated values)\n",
        "products_df['category'] = products_df['category'].astype('category')\n",
        "\n",
        "# Create a date column and convert to datetime\n",
        "products_df['last_updated'] = ['2025-01-15', '2025-01-20', '2025-01-10', '2025-01-25', '2025-01-18']\n",
        "products_df['last_updated'] = pd.to_datetime(products_df['last_updated'])\n",
        "\n",
        "# Check data types again\n",
        "print(products_df.dtypes)\n",
        "\n",
        "# Display the DataFrame with the new column\n",
        "print(\"\\nUpdated DataFrame:\")\n",
        "print(products_df)"
      ]
    },
    {
      "cell_type": "markdown",
      "metadata": {
        "id": "k3PMQ-6Xt-Xt"
      },
      "source": [
        "## 4. Handling Missing Data\n",
        "\n",
        "Missing data is a common issue in real-world datasets. In Pandas, missing values are typically represented by `NaN` (Not a Number). Let's see how to detect and handle missing values."
      ]
    },
    {
      "cell_type": "code",
      "execution_count": 16,
      "metadata": {
        "id": "Yj2nwaJZt-Xt",
        "outputId": "a722e23f-0071-4751-dabe-959b8df6ca54",
        "colab": {
          "base_uri": "https://localhost:8080/"
        }
      },
      "outputs": [
        {
          "output_type": "stream",
          "name": "stdout",
          "text": [
            "Missing values per column:\n",
            "product_id        0\n",
            "product_name      0\n",
            "category          0\n",
            "price             0\n",
            "stock_quantity    0\n",
            "rating            1\n",
            "last_updated      0\n",
            "dtype: int64\n",
            "\n",
            "Rows with any missing value:\n",
            "  product_id product_name     category  price  stock_quantity  rating  \\\n",
            "4       P005      Monitor  Electronics    300              10     NaN   \n",
            "\n",
            "  last_updated  \n",
            "4   2025-01-18  \n"
          ]
        }
      ],
      "source": [
        "# Check for missing values\n",
        "print(\"Missing values per column:\")\n",
        "print(products_df.isna().sum())\n",
        "\n",
        "# Check if any value in a row is missing\n",
        "print(\"\\nRows with any missing value:\")\n",
        "print(products_df[products_df.isna().any(axis=1)])"
      ]
    },
    {
      "cell_type": "markdown",
      "metadata": {
        "id": "pUHAEpNyt-Xt"
      },
      "source": [
        "### Handling missing values\n",
        "\n",
        "There are several ways to handle missing values:"
      ]
    },
    {
      "cell_type": "code",
      "execution_count": null,
      "metadata": {
        "id": "jQFsOUjxt-Xt"
      },
      "outputs": [],
      "source": [
        "# 1. Remove rows with missing values\n",
        "print(\"DataFrame after dropping rows with NaN:\")\n",
        "print(products_df.dropna())\n",
        "\n",
        "# Note: The above operation doesn't modify the original DataFrame unless inplace=True\n",
        "# Check that our original DataFrame still has the missing value\n",
        "print(\"\\nOriginal DataFrame (unchanged):\")\n",
        "print(products_df)"
      ]
    },
    {
      "cell_type": "code",
      "execution_count": null,
      "metadata": {
        "id": "L3gZPPAGt-Xt"
      },
      "outputs": [],
      "source": [
        "# 2. Fill missing values\n",
        "# With a constant value\n",
        "print(\"DataFrame after filling NaN with 0:\")\n",
        "print(products_df.fillna(0))\n",
        "\n",
        "# With column-specific values\n",
        "print(\"\\nDataFrame after filling NaN with column-specific values:\")\n",
        "print(products_df.fillna({'rating': 3.0}))\n",
        "\n",
        "# With the mean of the column\n",
        "mean_rating = products_df['rating'].mean()\n",
        "print(f\"\\nMean rating: {mean_rating:.2f}\")\n",
        "print(\"DataFrame after filling NaN with column mean:\")\n",
        "print(products_df.fillna({'rating': mean_rating}))"
      ]
    },
    {
      "cell_type": "code",
      "execution_count": 30,
      "metadata": {
        "id": "qAM8l4f_t-Xt",
        "outputId": "eff1164b-d0fb-4adf-a14d-acba7e1a9277",
        "colab": {
          "base_uri": "https://localhost:8080/",
          "height": 216
        }
      },
      "outputs": [
        {
          "output_type": "error",
          "ename": "NameError",
          "evalue": "name 'mean_rating' is not defined",
          "traceback": [
            "\u001b[0;31m---------------------------------------------------------------------------\u001b[0m",
            "\u001b[0;31mNameError\u001b[0m                                 Traceback (most recent call last)",
            "\u001b[0;32m<ipython-input-30-1dc1a52fef8a>\u001b[0m in \u001b[0;36m<cell line: 0>\u001b[0;34m()\u001b[0m\n\u001b[1;32m      1\u001b[0m \u001b[0;31m# 3. Update the original DataFrame\u001b[0m\u001b[0;34m\u001b[0m\u001b[0;34m\u001b[0m\u001b[0m\n\u001b[1;32m      2\u001b[0m \u001b[0;31m# Let's fill the missing rating with the mean and update our DataFrame\u001b[0m\u001b[0;34m\u001b[0m\u001b[0;34m\u001b[0m\u001b[0m\n\u001b[0;32m----> 3\u001b[0;31m \u001b[0mproducts_df\u001b[0m\u001b[0;34m[\u001b[0m\u001b[0;34m'rating'\u001b[0m\u001b[0;34m]\u001b[0m \u001b[0;34m=\u001b[0m \u001b[0mproducts_df\u001b[0m\u001b[0;34m[\u001b[0m\u001b[0;34m'rating'\u001b[0m\u001b[0;34m]\u001b[0m\u001b[0;34m.\u001b[0m\u001b[0mfillna\u001b[0m\u001b[0;34m(\u001b[0m\u001b[0mmean_rating\u001b[0m\u001b[0;34m)\u001b[0m\u001b[0;34m\u001b[0m\u001b[0;34m\u001b[0m\u001b[0m\n\u001b[0m\u001b[1;32m      4\u001b[0m \u001b[0mprint\u001b[0m\u001b[0;34m(\u001b[0m\u001b[0;34m\"Updated DataFrame:\"\u001b[0m\u001b[0;34m)\u001b[0m\u001b[0;34m\u001b[0m\u001b[0;34m\u001b[0m\u001b[0m\n\u001b[1;32m      5\u001b[0m \u001b[0mprint\u001b[0m\u001b[0;34m(\u001b[0m\u001b[0mproducts_df\u001b[0m\u001b[0;34m)\u001b[0m\u001b[0;34m\u001b[0m\u001b[0;34m\u001b[0m\u001b[0m\n",
            "\u001b[0;31mNameError\u001b[0m: name 'mean_rating' is not defined"
          ]
        }
      ],
      "source": [
        "# 3. Update the original DataFrame\n",
        "# Let's fill the missing rating with the mean and update our DataFrame\n",
        "products_df['rating'] = products_df['rating'].fillna(mean_rating)\n",
        "print(\"Updated DataFrame:\")\n",
        "print(products_df)\n",
        "\n",
        "# Verify there are no more missing values\n",
        "print(\"\\nMissing values per column:\")\n",
        "print(products_df.isna().sum())"
      ]
    },
    {
      "cell_type": "markdown",
      "metadata": {
        "id": "ED3atf29t-Xt"
      },
      "source": [
        "## 5. Basic Column Operations\n",
        "\n",
        "Now let's look at some basic operations on DataFrame columns."
      ]
    },
    {
      "cell_type": "code",
      "execution_count": 29,
      "metadata": {
        "id": "2jasiTJlt-Xt",
        "outputId": "fc0f5db8-396b-4b04-a794-c64e2bde4b95",
        "colab": {
          "base_uri": "https://localhost:8080/"
        }
      },
      "outputs": [
        {
          "output_type": "stream",
          "name": "stdout",
          "text": [
            "DataFrame with inventory value:\n",
            "  product_id product_name     category  price  stock_quantity  rating  \\\n",
            "0       P001       Laptop  Electronics   1200              15     4.5   \n",
            "1       P002   Smartphone  Electronics    800              25     4.8   \n",
            "2       P003       Tablet  Electronics    450               0     4.2   \n",
            "3       P004   Headphones  Accessories    150              30     4.6   \n",
            "4       P005      Monitor  Electronics    300              10     NaN   \n",
            "\n",
            "  last_updated  inventory_value  \n",
            "0   2025-01-15            18000  \n",
            "1   2025-01-20            20000  \n",
            "2   2025-01-10                0  \n",
            "3   2025-01-25             4500  \n",
            "4   2025-01-18             3000  \n"
          ]
        }
      ],
      "source": [
        "# Adding a new column\n",
        "# Calculate inventory value (price * stock_quantity)\n",
        "products_df['inventory_value'] = products_df['price'] * products_df['stock_quantity']\n",
        "print(\"DataFrame with inventory value:\")\n",
        "print(products_df)"
      ]
    },
    {
      "cell_type": "code",
      "execution_count": null,
      "metadata": {
        "id": "WLq3usmJt-Xu"
      },
      "outputs": [],
      "source": [
        "# Using apply() to create a column with a function\n",
        "def stock_status(quantity):\n",
        "    if quantity == 0:\n",
        "        return 'Out of Stock'\n",
        "    elif quantity < 15:\n",
        "        return 'Low Stock'\n",
        "    else:\n",
        "        return 'In Stock'\n",
        "\n",
        "products_df['stock_status'] = products_df['stock_quantity'].apply(stock_status)\n",
        "print(\"DataFrame with stock status:\")\n",
        "print(products_df)"
      ]
    },
    {
      "cell_type": "code",
      "execution_count": null,
      "metadata": {
        "id": "OpiMyDK-t-Xu"
      },
      "outputs": [],
      "source": [
        "# Using lambda functions for simple operations\n",
        "# Calculate a 10% discount price\n",
        "products_df['discount_price'] = products_df['price'].apply(lambda x: x * 0.9)\n",
        "print(\"DataFrame with discount price:\")\n",
        "print(products_df)"
      ]
    },
    {
      "cell_type": "code",
      "execution_count": null,
      "metadata": {
        "id": "QsBZEnlyt-X5"
      },
      "outputs": [],
      "source": [
        "# Renaming columns\n",
        "products_df = products_df.rename(columns={\n",
        "    'stock_quantity': 'quantity_in_stock',\n",
        "    'discount_price': 'sale_price'\n",
        "})\n",
        "print(\"DataFrame with renamed columns:\")\n",
        "print(products_df)"
      ]
    },
    {
      "cell_type": "code",
      "execution_count": null,
      "metadata": {
        "id": "ht2U1bm-t-X5"
      },
      "outputs": [],
      "source": [
        "# Dropping columns\n",
        "products_df_simplified = products_df.drop(columns=['inventory_value', 'stock_status'])\n",
        "print(\"Simplified DataFrame:\")\n",
        "print(products_df_simplified)"
      ]
    },
    {
      "cell_type": "markdown",
      "metadata": {
        "id": "kOO0IV9lt-X5"
      },
      "source": [
        "## 6. Practice Exercises\n",
        "\n",
        "Now let's practice with some exercises using what we've learned."
      ]
    },
    {
      "cell_type": "markdown",
      "metadata": {
        "id": "k7H8jQUzt-X5"
      },
      "source": [
        "### Exercise 1: DataFrame Inspection\n",
        "\n",
        "Create a new DataFrame with sales data and answer the following questions:\n",
        "1. How many rows and columns are in the DataFrame?\n",
        "2. What is the data type of each column?\n",
        "3. Are there any missing values?\n",
        "4. What is the average sales amount?"
      ]
    },
    {
      "cell_type": "code",
      "execution_count": 5,
      "metadata": {
        "id": "Xd2Vgq0kt-X6",
        "outputId": "fe8f00ed-42b3-4533-d41e-e5869aadbdc3",
        "colab": {
          "base_uri": "https://localhost:8080/"
        }
      },
      "outputs": [
        {
          "output_type": "stream",
          "name": "stdout",
          "text": [
            "  sale_id       date product_id  quantity  amount customer_id\n",
            "0    S001 2025-01-05       P001         1    1200        C001\n",
            "1    S002 2025-01-10       P002         2    1600        C002\n",
            "2    S003 2025-01-15       P001         1    1200        C003\n",
            "3    S004 2025-01-20       P003         1     450        C001\n",
            "4    S005 2025-01-25       P002         3    2400        None\n",
            "5    S006 2025-01-30       P004         2     300        C002\n",
            "\n",
            " Number of rows and column:\n",
            "Number of rows: 5\n",
            "Number of columns: 6\n",
            "\n",
            " Data type of each column:\n",
            "sale_id                object\n",
            "date           datetime64[ns]\n",
            "product_id             object\n",
            "quantity                int64\n",
            "amount                  int64\n",
            "customer_id            object\n",
            "dtype: object\n",
            "\n",
            " missing values:\n",
            "1\n",
            "\n",
            " Average sales amount:\n",
            "Average Sales Amount: 1191.67\n"
          ]
        }
      ],
      "source": [
        "# Create a sales DataFrame\n",
        "sales_data = {\n",
        "    'sale_id': ['S001', 'S002', 'S003', 'S004', 'S005', 'S006'],\n",
        "    'date': ['2025-01-05', '2025-01-10', '2025-01-15', '2025-01-20', '2025-01-25', '2025-01-30'],\n",
        "    'product_id': ['P001', 'P002', 'P001', 'P003', 'P002', 'P004'],\n",
        "    'quantity': [1, 2, 1, 1, 3, 2],\n",
        "    'amount': [1200, 1600, 1200, 450, 2400, 300],\n",
        "    'customer_id': ['C001', 'C002', 'C003', 'C001', None, 'C002']\n",
        "}\n",
        "\n",
        "sales_df = pd.DataFrame(sales_data)\n",
        "sales_df['date'] = pd.to_datetime(sales_df['date'])\n",
        "print(sales_df)\n",
        "\n",
        "# Your code here to answer the questions\n",
        "print(\"\\n Number of rows and column:\")\n",
        "rows, columns = products_df.shape\n",
        "print(\"Number of rows:\", rows)\n",
        "print(\"Number of columns:\", columns)\n",
        "\n",
        "#data type of each column\n",
        "print(\"\\n Data type of each column:\")\n",
        "print(sales_df.dtypes)\n",
        "\n",
        "#check for missing values\n",
        "print(\"\\n missing values:\")\n",
        "print(sales_df.isna().sum().sum())\n",
        "\n",
        "average_sales = sales_df[\"amount\"].mean()\n",
        "print(\"\\n Average sales amount:\")\n",
        "print(\"Average Sales Amount:\", round(average_sales,2))\n",
        "\n"
      ]
    },
    {
      "cell_type": "markdown",
      "metadata": {
        "id": "4O1Zh8mKt-X6"
      },
      "source": [
        "### Exercise 2: Column Operations\n",
        "\n",
        "Using the sales DataFrame from Exercise 1:\n",
        "1. Add a column 'unit_price' that calculates the price per unit (amount / quantity)\n",
        "2. Add a column 'month' that extracts the month from the date\n",
        "3. Add a column 'high_value' that is True if the amount is greater than 1000, False otherwise\n",
        "4. Calculate the total sales amount"
      ]
    },
    {
      "cell_type": "code",
      "execution_count": 6,
      "metadata": {
        "id": "TehJrnQ4t-X6",
        "outputId": "0d8b146d-5f2d-47c1-e8d6-04508957b981",
        "colab": {
          "base_uri": "https://localhost:8080/"
        }
      },
      "outputs": [
        {
          "output_type": "stream",
          "name": "stdout",
          "text": [
            "dataframe with new colum:\n",
            "  sale_id       date product_id  quantity  amount customer_id  unit_price\n",
            "0    S001 2025-01-05       P001         1    1200        C001      1200.0\n",
            "1    S002 2025-01-10       P002         2    1600        C002       800.0\n",
            "2    S003 2025-01-15       P001         1    1200        C003      1200.0\n",
            "3    S004 2025-01-20       P003         1     450        C001       450.0\n",
            "4    S005 2025-01-25       P002         3    2400        None       800.0\n",
            "5    S006 2025-01-30       P004         2     300        C002       150.0\n",
            "\n",
            " New column 'month:\n",
            "  sale_id       date product_id  quantity  amount customer_id  unit_price  \\\n",
            "0    S001 2025-01-05       P001         1    1200        C001      1200.0   \n",
            "1    S002 2025-01-10       P002         2    1600        C002       800.0   \n",
            "2    S003 2025-01-15       P001         1    1200        C003      1200.0   \n",
            "3    S004 2025-01-20       P003         1     450        C001       450.0   \n",
            "4    S005 2025-01-25       P002         3    2400        None       800.0   \n",
            "5    S006 2025-01-30       P004         2     300        C002       150.0   \n",
            "\n",
            "   month  \n",
            "0      1  \n",
            "1      1  \n",
            "2      1  \n",
            "3      1  \n",
            "4      1  \n",
            "5      1  \n"
          ]
        }
      ],
      "source": [
        "# Add a new column\n",
        "sales_df[\"unit_price\"] = sales_df['amount'] / sales_df['quantity']\n",
        "print(\"dataframe with new colum:\")\n",
        "print(sales_df)\n",
        "\n",
        "#Add new column month\n",
        "sales_df[\"month\"] = sales_df['date'].dt.month\n",
        "print(\"\\n New column 'month:\")\n",
        "print(sales_df)"
      ]
    },
    {
      "cell_type": "markdown",
      "metadata": {
        "id": "mSgGu75ot-X6"
      },
      "source": [
        "### Exercise 3: Handling Missing Values\n",
        "\n",
        "Using the sales DataFrame from Exercise 1:\n",
        "1. Identify which rows have missing values\n",
        "2. Fill missing customer_id values with 'Unknown'\n",
        "3. Create a new DataFrame that drops rows with any missing values"
      ]
    },
    {
      "cell_type": "code",
      "execution_count": null,
      "metadata": {
        "id": "EtjGrNUht-X6"
      },
      "outputs": [],
      "source": [
        "# Your code here\n"
      ]
    },
    {
      "cell_type": "markdown",
      "metadata": {
        "id": "fmeyXrQet-X6"
      },
      "source": [
        "## Next Steps\n",
        "\n",
        "In the next part, we'll focus on data selection and filtering operations, including how to translate SQL WHERE clauses to Pandas.\n",
        "\n",
        "Continue to [Part 3: Selection and Filtering](02_Pandas_Fundamentals_I_part3.ipynb)"
      ]
    }
  ],
  "metadata": {
    "kernelspec": {
      "display_name": "Python 3",
      "language": "python",
      "name": "python3"
    },
    "language_info": {
      "codemirror_mode": {
        "name": "ipython",
        "version": 3
      },
      "file_extension": ".py",
      "mimetype": "text/x-python",
      "name": "python",
      "nbconvert_exporter": "python",
      "pygments_lexer": "ipython3",
      "version": "3.8.10"
    },
    "colab": {
      "provenance": []
    }
  },
  "nbformat": 4,
  "nbformat_minor": 0
}