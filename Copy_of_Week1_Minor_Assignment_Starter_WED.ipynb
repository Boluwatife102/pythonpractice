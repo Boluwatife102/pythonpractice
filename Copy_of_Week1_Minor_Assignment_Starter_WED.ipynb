{
  "cells": [
    {
      "cell_type": "markdown",
      "metadata": {
        "id": "view-in-github",
        "colab_type": "text"
      },
      "source": [
        "<a href=\"https://colab.research.google.com/github/Boluwatife102/pythonpractice/blob/main/Copy_of_Week1_Minor_Assignment_Starter_WED.ipynb\" target=\"_parent\"><img src=\"https://colab.research.google.com/assets/colab-badge.svg\" alt=\"Open In Colab\"/></a>"
      ]
    },
    {
      "cell_type": "markdown",
      "metadata": {
        "id": "4AHk-jOFXxnz"
      },
      "source": [
        "# Week 1 Minor Assignment: Introduction to Python and Google Colab\n",
        "\n",
        "**Student Name:** Week1_Minor_Assignment_Starter_WED.ipynb(Boluwatife Olu-Johnson)\n",
        "\n",
        "**Submission Date:**  \n",
        "\n",
        "## Instructions\n",
        "Complete all tasks in this notebook. Include descriptive markdown text between code cells to explain your approach. Make sure to run all cells before submission."
      ]
    },
    {
      "cell_type": "code",
      "source": [
        "from google.colab import drive\n",
        "drive.mount('/content/drive')"
      ],
      "metadata": {
        "colab": {
          "base_uri": "https://localhost:8080/"
        },
        "id": "j9OE9d80Wfab",
        "outputId": "7ea3f876-53e3-41b8-de30-7f6232bcf004"
      },
      "execution_count": null,
      "outputs": [
        {
          "output_type": "stream",
          "name": "stdout",
          "text": [
            "Drive already mounted at /content/drive; to attempt to forcibly remount, call drive.mount(\"/content/drive\", force_remount=True).\n"
          ]
        }
      ]
    },
    {
      "cell_type": "markdown",
      "metadata": {
        "id": "b9urYn9RXxn_"
      },
      "source": [
        "## Dataset Loading\n",
        "\n",
        "First, let's load the datasets we'll be working with."
      ]
    },
    {
      "cell_type": "code",
      "execution_count": null,
      "metadata": {
        "colab": {
          "base_uri": "https://localhost:8080/"
        },
        "id": "7H310CjeXxoA",
        "outputId": "be1178b7-d64d-49ff-ee6e-900ce9e8472b"
      },
      "outputs": [
        {
          "output_type": "stream",
          "name": "stdout",
          "text": [
            "Sales Data:\n",
            "   product_id          product_name     category    price  stock_quantity\n",
            "0        1001            Laptop Pro  Electronics  1299.99              45\n",
            "1        1002        Wireless Mouse  Accessories    24.99             150\n",
            "2        1003  Bluetooth Headphones        Audio    89.99              78\n",
            "3        1004           USB-C Cable  Accessories    12.99             200\n",
            "4        1005       27-inch Monitor  Electronics   249.99              30\n",
            "\n",
            "Customers:\n",
            "  customer_id first_name last_name                 email signup_date  \\\n",
            "0        C001       John     Smith  john.smith@email.com  2023-01-15   \n",
            "1        C002      Emily   Johnson     emily.j@email.com  2023-02-03   \n",
            "2        C003    Michael     Davis      mdavis@email.com  2023-01-27   \n",
            "3        C004    Jessica    Wilson      jess_w@email.com  2023-03-10   \n",
            "4        C005      David  Martinez   dmartinez@email.com  2023-02-14   \n",
            "\n",
            "   total_purchases  \n",
            "0                5  \n",
            "1                3  \n",
            "2                7  \n",
            "3                2  \n",
            "4                4  \n",
            "\n",
            "Orders:\n",
            "  order_id customer_id  order_date  total_amount     status\n",
            "0  ORD-001        C003  2023-01-28       1399.97  Delivered\n",
            "1  ORD-002        C001  2023-02-02        249.99  Delivered\n",
            "2  ORD-003        C006  2023-02-05        224.97  Delivered\n",
            "3  ORD-004        C002  2023-02-10       1299.99  Delivered\n",
            "4  ORD-005        C009  2023-02-15        112.97  Delivered\n",
            "\n",
            "Order Items:\n",
            "  order_id  product_id  quantity  unit_price  subtotal\n",
            "0  ORD-001        1001         1     1299.99   1299.99\n",
            "1  ORD-001        1002         1       24.99     24.99\n",
            "2  ORD-001        1004         3       12.99     38.97\n",
            "3  ORD-002        1005         1      249.99    249.99\n",
            "4  ORD-003        1003         1       89.99     89.99\n",
            "\n",
            "Product Reviews:\n",
            "  review_id  product_id customer_id  rating review_date  \\\n",
            "0   REV-001        1001        C002       5  2023-02-12   \n",
            "1   REV-002        1003        C006       4  2023-02-07   \n",
            "2   REV-003        1005        C001       5  2023-02-05   \n",
            "3   REV-004        1002        C003       3  2023-01-30   \n",
            "4   REV-005        1007        C003       5  2023-02-22   \n",
            "\n",
            "                                    review_text  \n",
            "0          Excellent laptop, fast and reliable.  \n",
            "1      Good sound quality, comfortable to wear.  \n",
            "2  Perfect size and resolution. Very satisfied!  \n",
            "3  Works well but battery life could be better.  \n",
            "4           Super fast storage, easy to set up.  \n"
          ]
        }
      ],
      "source": [
        "# Import necessary libraries\n",
        "import pandas as pd\n",
        "import numpy as np\n",
        "\n",
        "# Load datasets\n",
        "# Note: Modify the paths below based on your file locations\n",
        "sales_data = pd.read_csv('sales_data.csv')\n",
        "customers = pd.read_csv('customers.csv')\n",
        "orders = pd.read_csv('orders.csv')\n",
        "order_items = pd.read_csv('order_items.csv')\n",
        "product_reviews = pd.read_csv('product_reviews.csv')\n",
        "\n",
        "# Display the first few rows of each dataset to verify loading\n",
        "print(\"Sales Data:\")\n",
        "print(sales_data.head())\n",
        "\n",
        "print(\"\\nCustomers:\")\n",
        "print(customers.head())\n",
        "\n",
        "print(\"\\nOrders:\")\n",
        "print(orders.head())\n",
        "\n",
        "print(\"\\nOrder Items:\")\n",
        "print(order_items.head())\n",
        "\n",
        "print(\"\\nProduct Reviews:\")\n",
        "print(product_reviews.head())"
      ]
    },
    {
      "cell_type": "code",
      "source": [
        "from google.colab import drive\n",
        "drive.mount('/content/drive')\n"
      ],
      "metadata": {
        "colab": {
          "base_uri": "https://localhost:8080/"
        },
        "id": "fQl4yNxC4lHi",
        "outputId": "f4afcfe3-b5c2-4cef-e06e-d6cc1f34c5cf"
      },
      "execution_count": null,
      "outputs": [
        {
          "output_type": "stream",
          "name": "stdout",
          "text": [
            "Mounted at /content/drive\n"
          ]
        }
      ]
    },
    {
      "cell_type": "markdown",
      "metadata": {
        "id": "XpvExGHPXxoE"
      },
      "source": [
        "## Part 1: Basic Python Variables and Operations (20 points)\n",
        "\n",
        "1. Create variables for:\n",
        "   - A product name (string)\n",
        "   - A product price (float)\n",
        "   - Whether the product is in stock (boolean)\n",
        "   - The stock quantity (integer)"
      ]
    },
    {
      "cell_type": "markdown",
      "source": [
        "# New Section"
      ],
      "metadata": {
        "id": "upZko2my2qLB"
      }
    },
    {
      "cell_type": "code",
      "execution_count": null,
      "metadata": {
        "colab": {
          "base_uri": "https://localhost:8080/"
        },
        "id": "VZujmWy2XxoF",
        "outputId": "963d2b6c-e179-467e-89a0-f772388e012b"
      },
      "outputs": [
        {
          "output_type": "stream",
          "name": "stdout",
          "text": [
            "Bluetooth Headphones\n",
            "89.99\n",
            "True\n",
            "78\n"
          ]
        }
      ],
      "source": [
        "product_name =\"Bluetooth Headphones\"   #string\n",
        "product_price = 89.99             #float\n",
        "in_stock = True                   #Boolean\n",
        "stock_quantity = 78                #Integer\n",
        "\n",
        "print(product_name)\n",
        "print(product_price)\n",
        "print(in_stock)\n",
        "print(stock_quantity)\n",
        "\n"
      ]
    },
    {
      "cell_type": "markdown",
      "metadata": {
        "id": "50I9xRt8XxoH"
      },
      "source": [
        "2. Write expressions that:\n",
        "   - Calculate the total value of the inventory (price × quantity)\n",
        "   - Apply a 15% discount to the price\n",
        "   - Check if the product is in stock AND the price is less than $100\n",
        "   - Create a formatted string showing product details"
      ]
    },
    {
      "cell_type": "code",
      "execution_count": null,
      "metadata": {
        "colab": {
          "base_uri": "https://localhost:8080/"
        },
        "id": "d0ARLVCZXxoI",
        "outputId": "f084ab3f-59b6-40e4-d47c-1f391c6e80cf"
      },
      "outputs": [
        {
          "output_type": "stream",
          "name": "stdout",
          "text": [
            "7019.219999999999\n",
            "76.49149999999999\n",
            "product is available and affordable\n",
            "Product: Bluetooth Headphones\n",
            "Original Price: $89.99\n",
            "Discounted Price: $76.49\n",
            "In Stock: True\n",
            "Quantity: 78\n",
            "Total Inventory Value: $7019.22\n",
            "in stock & price is less than $100: Bluetooth Headphones is available\n"
          ]
        }
      ],
      "source": [
        "# Calculate the total value of the inventory (price × quantity)\n",
        "total_value = product_price * stock_quantity\n",
        "print(total_value)\n",
        "\n",
        "#Apply a 15% discount to the price\n",
        "discount_price = product_price * 0.85\n",
        "print(discount_price)\n",
        "\n",
        "#Check if the product is in stock AND the price is less than $100\n",
        "product_price = 89.99\n",
        "in_stock = True\n",
        "if in_stock and product_price < 100:\n",
        "  print(\"product is available and affordable\")\n",
        "else:\n",
        "  print(\"product is expensive\")\n",
        "\n",
        "#Create a formatted string showing product details\n",
        "product_details = (\n",
        "    f\"Product: {product_name}\\n\"\n",
        "    f\"Original Price: ${product_price:.2f}\\n\"\n",
        "    f\"Discounted Price: ${discount_price:.2f}\\n\"\n",
        "    f\"In Stock: {in_stock}\\n\"\n",
        "    f\"Quantity: {stock_quantity}\\n\"\n",
        "    f\"Total Inventory Value: ${total_value:.2f}\\n\"\n",
        "    f\"in stock & price is less than $100: {product_name} is available\"\n",
        "    )\n",
        "print(product_details)\n",
        "\n",
        "\n",
        "\n",
        "\n",
        "\n",
        "\n",
        "\n",
        "\n"
      ]
    },
    {
      "cell_type": "markdown",
      "metadata": {
        "id": "rKTdd4cbXxoJ"
      },
      "source": [
        "## Part 2: Working with Data Structures (25 points)\n",
        "\n",
        "1. Create a list of at least 5 products with their prices"
      ]
    },
    {
      "cell_type": "code",
      "execution_count": null,
      "metadata": {
        "id": "k2qnq9XbXxoK"
      },
      "outputs": [],
      "source": [
        "# Create a list of at least 5 products with their prices\n",
        "products = [\"Laptop Pro\", \"wireless Mouse\", \"Bluetooth Headphones\", \"USB-C Cable\", \"27-inch Monitor\"]\n",
        "prices = [1299.99, 24.99, 89.99, 12.99, 249.99]\n"
      ]
    },
    {
      "cell_type": "markdown",
      "metadata": {
        "id": "EhCG6mLPXxoL"
      },
      "source": [
        "2. Create a dictionary representing a single product with the following keys:\n",
        "   - `id`, `name`, `price`, `category`, `in_stock`, `features` (list of features)"
      ]
    },
    {
      "cell_type": "code",
      "execution_count": null,
      "metadata": {
        "colab": {
          "base_uri": "https://localhost:8080/"
        },
        "id": "2AY1queIXxoL",
        "outputId": "a8d30099-f3ec-4454-a6c7-7c54831863e2"
      },
      "outputs": [
        {
          "output_type": "stream",
          "name": "stdout",
          "text": [
            "{'id': 1001, 'name': 'Laptop Pro', 'price': 1299.99, 'category': 'Electronics', 'in_stock': True, 'Features': ['Excellent laptop', 'fast', 'reliable']}\n"
          ]
        }
      ],
      "source": [
        "# Create a dictionary representing a single product with the following keys:\n",
        "product = {\n",
        "    \"id\" : 1001,\n",
        "    \"name\": \"Laptop Pro\",\n",
        "    \"price\": 1299.99,\n",
        "    \"category\": \"Electronics\",\n",
        "    \"in_stock\" : True,\n",
        "    \"Features\" : [\"Excellent laptop\", \"fast\", \"reliable\" ]\n",
        "}\n",
        "print(product)\n"
      ]
    },
    {
      "cell_type": "markdown",
      "metadata": {
        "id": "ZYFfZHNQXxoM"
      },
      "source": [
        "3. Using the list of products:\n",
        "   - Find the most expensive product\n",
        "   - Calculate the average price\n",
        "   - Create a new list containing only products under $50"
      ]
    },
    {
      "cell_type": "code",
      "execution_count": null,
      "metadata": {
        "id": "-7TepLUZXxoQ"
      },
      "outputs": [],
      "source": [
        "#list of products\n",
        "products = [\"Laptop Pro\", \"Wireless Mouse\", \"Bluetooth Headphones\", \"USB-C Cable\", \"27-inch Monitor\"]\n",
        "prices = [1299.99, 24.99, 89.99, 12.99, 249.99 ]\n",
        "\n",
        "#Find the most expensive product\n",
        "\n",
        "\n"
      ]
    },
    {
      "cell_type": "markdown",
      "metadata": {
        "id": "7wRnTWktXxoQ"
      },
      "source": [
        "4. Using the product dictionary:\n",
        "   - Add a new key for `discount_price` that's 10% off the original price\n",
        "   - Add a new feature to the features list\n",
        "   - Create a formatted string that describes the product"
      ]
    },
    {
      "cell_type": "code",
      "execution_count": null,
      "metadata": {
        "id": "BsaAwKMfXxoR",
        "colab": {
          "base_uri": "https://localhost:8080/"
        },
        "outputId": "322ccaa5-499a-48f6-aa0f-b26ccfe3539d"
      },
      "outputs": [
        {
          "output_type": "stream",
          "name": "stdout",
          "text": [
            "{'id': 1001, 'name': 'Laptop Pro', 'price': 1299.99, 'category': 'Electronics', 'in_stock': True, 'Features': ['Excellent laptop', 'fast', 'reliable', '12 hours battery life'], 'discount_price': 1169.99}\n",
            "id : 1001\n",
            "product : Laptop Pro\n",
            "price : $1299.99\n",
            "category : Electronics\n",
            "in_stock : True\n",
            "discount_price : $1169.99\n",
            "Features : ['Excellent laptop', 'fast', 'reliable', '12 hours battery life']\n"
          ]
        }
      ],
      "source": [
        "from os import name\n",
        "# using product dictionary\n",
        "\n",
        "product = {\n",
        "    \"id\" : 1001,\n",
        "    \"name\": \"Laptop Pro\",\n",
        "    \"price\": 1299.99,\n",
        "    \"category\": \"Electronics\",\n",
        "    \"in_stock\" : True,\n",
        "    \"Features\" : [\"Excellent laptop\", \"fast\", \"reliable\" ]\n",
        "}\n",
        "\n",
        "#Add a new key for discount_price that's 10% off the original price\n",
        "product[\"discount_price\"] = round(product[\"price\"] * 0.90, 2)\n",
        "\n",
        "#Add a new feature to the features list\n",
        "product[\"Features\"].append (\"12 hours battery life\")\n",
        "print(product)\n",
        "\n",
        "#Create a formatted string that describes the product\n",
        "\n",
        "product_info = (\n",
        "    f\"id : {product['id']}\\n\"\n",
        "    f\"product : {product['name']}\\n\"\n",
        "    f\"price : ${product['price']:.2f}\\n\"\n",
        "    f\"category : {product['category']}\\n\"\n",
        "    f\"in_stock : {product['in_stock']}\\n\"\n",
        "    f\"discount_price : ${product['discount_price']:.2f}\\n\"\n",
        "    f\"Features : {product['Features']}\"\n",
        "\n",
        ")\n",
        "\n",
        "print(product_info)\n",
        "\n",
        "\n"
      ]
    },
    {
      "cell_type": "markdown",
      "metadata": {
        "id": "JMEXgdEGXxoT"
      },
      "source": [
        "## Part 3: Functions and Control Flow (25 points)\n",
        "\n",
        "1. Write a function called `calculate_total_price(price, quantity, tax_rate=0.08)` that:\n",
        "   - Calculates the subtotal (price × quantity)\n",
        "   - Adds tax based on the provided rate\n",
        "   - Returns the final total\n",
        "   - Test your function with at least 3 different scenarios"
      ]
    },
    {
      "cell_type": "code",
      "execution_count": null,
      "metadata": {
        "id": "rVs8Fwq7XxoU",
        "colab": {
          "base_uri": "https://localhost:8080/"
        },
        "outputId": "3dafd006-c8b4-4e17-db6d-55bbe0d1f652"
      },
      "outputs": [
        {
          "output_type": "stream",
          "name": "stdout",
          "text": [
            " total_laptop: $63179.51\n",
            "total_wirelessmouse: $4048.38\n",
            "total_Bluetoothheadphone: 7580.76\n"
          ]
        }
      ],
      "source": [
        "# Calculates the subtotal (price × quantity)\n",
        "def calculate_total_price(price, quantity, tax_rate=0.08):\n",
        "    subtotal = price * quantity\n",
        "    tax = subtotal * tax_rate\n",
        "    total = subtotal + tax\n",
        "    return round(total,2)\n",
        "\n",
        "#Test your function with at least 3 different scenarios\n",
        "\n",
        "total_laptop = calculate_total_price(1299.99, 45, tax_rate=0.08)\n",
        "print(f\" total_laptop: ${total_laptop}\")\n",
        "\n",
        "total_wirelessmouse = calculate_total_price(24.99, 150, tax_rate=0.08)\n",
        "print(f\"total_wirelessmouse: ${total_wirelessmouse}\")\n",
        "\n",
        "total_Bluetoothheadphone = calculate_total_price(89.99, 78, tax_rate=0.08)\n",
        "print(f\"total_Bluetoothheadphone: {total_Bluetoothheadphone}\")"
      ]
    },
    {
      "cell_type": "markdown",
      "metadata": {
        "id": "ico6kJNIXxoU"
      },
      "source": [
        "2. Write a function called `analyze_sales(products_data)` that:\n",
        "   - Takes a list of product dictionaries\n",
        "   - Groups products by category\n",
        "   - Calculates the average price per category\n",
        "   - Returns a dictionary with categories as keys and average prices as values\n",
        "   - Test your function with a sample list of at least 6 products across 3 categories"
      ]
    },
    {
      "cell_type": "code",
      "execution_count": null,
      "metadata": {
        "id": "NwLV4cE3XxoX",
        "colab": {
          "base_uri": "https://localhost:8080/"
        },
        "outputId": "9845b091-435a-499f-c384-fd706d6c1df7"
      },
      "outputs": [
        {
          "output_type": "stream",
          "name": "stdout",
          "text": [
            "{'Electronics': 439.99, 'Accessories': 18.99}\n"
          ]
        }
      ],
      "source": [
        "# Write a function called analyze_sales(products_data)\n",
        "# Step 1: Define the analyze_sales function\n",
        "def analyze_sales(products_data):\n",
        "    category_totals = {}\n",
        "    category_counts = {}\n",
        "\n",
        "    for product in products_data:\n",
        "        category = product[\"category\"]\n",
        "        price = product[\"price\"]\n",
        "\n",
        "        if category not in category_totals:\n",
        "            category_totals[category] = 0\n",
        "            category_counts[category] = 0\n",
        "\n",
        "        category_totals[category] += price\n",
        "        category_counts[category] += 1\n",
        "\n",
        "    category_averages = {}\n",
        "    for category in category_totals:\n",
        "        average = category_totals[category] / category_counts[category]\n",
        "        category_averages[category] = round(average, 2)\n",
        "\n",
        "    return category_averages\n",
        "\n",
        " #Test your function with a sample list of at least 6 products across 3 categories\n",
        "products = [\n",
        "  {\"name\": \"Bluetooth Headphones\", \"price\": 89.99, \"category\": \"Electronics\"},\n",
        "  {\"name\": \"Smart Watch\", \"price\": 120.00, \"category\": \"Electronics\"},\n",
        "  {\"name\": \"Laptop Pro\", \"price\": 1299.99, \"category\": \"Electronics\"},\n",
        "  {\"name\": \"USB-C Cable\", \"price\": 12.99, \"category\": \"Accessories\"},\n",
        "  {\"name\": \"Wireless Mouse\", \"price\": 24.99, \"category\": \"Accessories\"},\n",
        "  {\"name\": \"27-inch Monitor\", \"price\": 249.99, \"category\": \"Electronics\"}\n",
        "]\n",
        "\n",
        "result = analyze_sales(products)\n",
        "print(result)"
      ]
    },
    {
      "cell_type": "markdown",
      "metadata": {
        "id": "kjbfgHdvXxoX"
      },
      "source": [
        "3. Write a function called `check_inventory(product, threshold=10)` that:\n",
        "   - Returns \"Low stock\" if quantity is below the threshold\n",
        "   - Returns \"In stock\" if quantity is at or above the threshold\n",
        "   - Returns \"Out of stock\" if quantity is 0\n",
        "   - Test with different product scenarios"
      ]
    },
    {
      "cell_type": "code",
      "execution_count": null,
      "metadata": {
        "id": "OURaRD9dXxoY",
        "colab": {
          "base_uri": "https://localhost:8080/"
        },
        "outputId": "152392ae-0e1e-484c-b83e-5bba2d3d8cc9"
      },
      "outputs": [
        {
          "output_type": "stream",
          "name": "stdout",
          "text": [
            "product1 : In stock\n",
            "product2 : In stock\n",
            "product3 : Out of stock\n",
            "product4 : Low stock\n"
          ]
        }
      ],
      "source": [
        "# Write a function called check_inventory(product, threshold=10)\n",
        "def check_inventory(product, threshold=10):\n",
        "    quantity = product.get(\"quantity\", 0)  # Default to 0 if not provided\n",
        "\n",
        "    if quantity == 0:\n",
        "        return \"Out of stock\"\n",
        "    elif quantity < threshold:\n",
        "        return \"Low stock\"\n",
        "    else:\n",
        "        return \"In stock\"\n",
        "\n",
        "# Test with different product scenarios\n",
        "product1 = {\"name\": \"laptop pro\", \"quantity\" : 45 }\n",
        "product2 = {\"name\": \"Bluetooth Headphones\", \"quantity\": 78 }\n",
        "product3 = {\"name\": \"charger\", \"quantity\" : 0 }\n",
        "product4 = {\"name\": \"flash drive\", \"quantity\" : 8 }\n",
        "\n",
        "\n",
        "print(f\"product1 : {check_inventory(product1)}\")\n",
        "print(f\"product2 : {check_inventory(product2)}\")\n",
        "print(f\"product3 : {check_inventory(product3)}\")\n",
        "print(f\"product4 : {check_inventory(product4)}\")\n"
      ]
    },
    {
      "cell_type": "markdown",
      "metadata": {
        "id": "gAS42ZBaXxoY"
      },
      "source": [
        "## Part 4: SQL to Python Translation (30 points)\n",
        "\n",
        "Using the provided CSV datasets, translate the following SQL queries to Python code using pandas:"
      ]
    },
    {
      "cell_type": "markdown",
      "metadata": {
        "id": "iJ3WMOnjXxoY"
      },
      "source": [
        "1. Basic Selection and Filtering\n",
        "```sql\n",
        "SELECT * FROM products WHERE category = 'Electronics' AND price > 100;\n",
        "```"
      ]
    },
    {
      "cell_type": "code",
      "source": [
        "import pandas as pd"
      ],
      "metadata": {
        "id": "Sqz5KWwE_lVG"
      },
      "execution_count": null,
      "outputs": []
    },
    {
      "cell_type": "code",
      "execution_count": null,
      "metadata": {
        "id": "PUDtFM5xXxoZ",
        "colab": {
          "base_uri": "https://localhost:8080/"
        },
        "outputId": "9e37a476-8f80-4c70-8014-a2112e6e1ec7"
      },
      "outputs": [
        {
          "output_type": "stream",
          "name": "stdout",
          "text": [
            "\n",
            "Filtering (WHERE):\n",
            "\n",
            "   product_id     product_name     category    price  stock_quantity\n",
            "0        1001       Laptop Pro  Electronics  1299.99              45\n",
            "4        1005  27-inch Monitor  Electronics   249.99              30\n"
          ]
        }
      ],
      "source": [
        "import pandas as pd\n",
        "products_df = pd.read_csv(\"sales_data.csv\")\n",
        "\n",
        "filtering = products_df[\n",
        "    (products_df[\"category\"] == \"Electronics\") & (products_df[\"price\"] > 100)\n",
        "]\n",
        "\n",
        "print(\"\\nFiltering (WHERE):\\n\")\n",
        "print(filtering)"
      ]
    },
    {
      "cell_type": "markdown",
      "metadata": {
        "id": "9LYTpwb6XxoZ"
      },
      "source": [
        "2. Aggregation and Grouping\n",
        "```sql\n",
        "SELECT category, COUNT(*) as product_count, AVG(price) as avg_price\n",
        "FROM products\n",
        "GROUP BY category;\n",
        "```"
      ]
    },
    {
      "cell_type": "code",
      "execution_count": null,
      "metadata": {
        "id": "remHLu6AXxoa",
        "colab": {
          "base_uri": "https://localhost:8080/"
        },
        "outputId": "40b02a58-9e92-440c-e2bc-2ff5bbccfef9"
      },
      "outputs": [
        {
          "output_type": "stream",
          "name": "stdout",
          "text": [
            "\n",
            "Grouping and aggregation (GROUP BY):\n",
            "\n",
            "      category   price\n",
            "0  Accessories   26.99\n",
            "1        Audio   84.99\n",
            "2  Electronics  539.99\n",
            "3      Storage  159.99\n"
          ]
        }
      ],
      "source": [
        "# python\n",
        "print(\"\\nGrouping and aggregation (GROUP BY):\\n\")\n",
        "category_avg = products_df.groupby('category')['price'].mean().reset_index()\n",
        "print(category_avg)"
      ]
    },
    {
      "cell_type": "markdown",
      "metadata": {
        "id": "9tGFlGcFXxob"
      },
      "source": [
        "3. Joining Tables\n",
        "```sql\n",
        "SELECT o.order_id, c.first_name, c.last_name, o.order_date, o.total_amount\n",
        "FROM orders o\n",
        "JOIN customers c ON o.customer_id = c.customer_id\n",
        "WHERE o.total_amount > 200\n",
        "ORDER BY o.order_date DESC;\n",
        "```"
      ]
    },
    {
      "cell_type": "code",
      "execution_count": null,
      "metadata": {
        "id": "s0m1K1gLXxob"
      },
      "outputs": [],
      "source": [
        "# Your pandas code here\n"
      ]
    },
    {
      "cell_type": "markdown",
      "metadata": {
        "id": "FyzjiYf-Xxob"
      },
      "source": [
        "4. Complex Query with Multiple Joins\n",
        "```sql\n",
        "SELECT\n",
        "    p.product_name,\n",
        "    COUNT(DISTINCT o.order_id) as order_count,\n",
        "    SUM(oi.quantity) as total_quantity,\n",
        "    AVG(oi.unit_price) as avg_price\n",
        "FROM products p\n",
        "JOIN order_items oi ON p.product_id = oi.product_id\n",
        "JOIN orders o ON oi.order_id = o.order_id\n",
        "WHERE o.status = 'Delivered'\n",
        "GROUP BY p.product_id, p.product_name\n",
        "HAVING COUNT(DISTINCT o.order_id) > 1\n",
        "ORDER BY total_quantity DESC;\n",
        "```"
      ]
    },
    {
      "cell_type": "code",
      "execution_count": null,
      "metadata": {
        "id": "vSYq-akaXxoc"
      },
      "outputs": [],
      "source": [
        "# Your pandas code here\n"
      ]
    },
    {
      "cell_type": "markdown",
      "metadata": {
        "id": "HGV28nnmXxoc"
      },
      "source": [
        "## Summary\n",
        "\n",
        "In this assignment, I've demonstrated my understanding of Python basics including:\n",
        "- Working with variables and basic operations\n",
        "- Using and manipulating data structures (lists and dictionaries)\n",
        "- Creating functions and implementing control flow\n",
        "- Translating SQL queries to Python code using pandas\n",
        "\n",
        "### Reflection\n",
        "(Add a brief reflection on what you learned and any challenges you encountered)"
      ]
    }
  ],
  "metadata": {
    "kernelspec": {
      "display_name": "Python 3",
      "language": "python",
      "name": "python3"
    },
    "language_info": {
      "codemirror_mode": {
        "name": "ipython",
        "version": 3
      },
      "file_extension": ".py",
      "mimetype": "text/x-python",
      "name": "python",
      "nbconvert_exporter": "python",
      "pygments_lexer": "ipython3",
      "version": "3.9.12"
    },
    "colab": {
      "provenance": [],
      "include_colab_link": true
    }
  },
  "nbformat": 4,
  "nbformat_minor": 0
}