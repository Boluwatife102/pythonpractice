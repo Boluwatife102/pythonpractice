{
 "cells": [
  {
   "cell_type": "code",
   "execution_count": 2,
   "metadata": {},
   "outputs": [],
   "source": [
    "def add_number(x, y) :\n",
    "    return x + y\n",
    "\n"
   ]
  },
  {
   "cell_type": "code",
   "execution_count": 3,
   "metadata": {},
   "outputs": [
    {
     "data": {
      "text/plain": [
       "10"
      ]
     },
     "execution_count": 3,
     "metadata": {},
     "output_type": "execute_result"
    }
   ],
   "source": [
    "add_number(4,6)"
   ]
  },
  {
   "cell_type": "code",
   "execution_count": 29,
   "metadata": {},
   "outputs": [],
   "source": [
    "def word_frequency(text):\n",
    "    dict_of_word_freq = {}    \n",
    "    str_text = str(text).lower()  \n",
    "    words = str_text.split() \n",
    "    print(f'words {words}')\n",
    "    for word in words :\n",
    "        if word in dict_of_word_freq :\n",
    "           dict_of_word_freq[word] += 1\n",
    "        else :\n",
    "            dict_of_word_freq[word] = 1\n",
    "\n",
    "    return dict_of_word_freq\n"
   ]
  },
  {
   "cell_type": "code",
   "execution_count": null,
   "metadata": {},
   "outputs": [],
   "source": [
    "def word_frequency(text):\n",
    "    dict_of_word_freq = {}    \n",
    "    str_text = str(text).lower()  \n",
    "    words = str_text.split() \n",
    "    print(f'words {words}')\n",
    "    for word in words :\n",
    "        if word in dict_of_word_freq :\n",
    "           dict_of_word_freq[word] += 1\n",
    "        else :\n",
    "            dict_of_word_freq[word] = 1\n",
    "\n",
    "    return dict_of_word_freq\n"
   ]
  },
  {
   "cell_type": "code",
   "execution_count": 41,
   "metadata": {},
   "outputs": [
    {
     "name": "stdout",
     "output_type": "stream",
     "text": [
      "words ['hey!,', 'wendy', 'is', 'not', 'allowed', 'to', 'play', 'in', 'the', 'rain.', 'however,', 'wendy', 'is', 'allowed', 'to', 'play', 'in', 'the', 'room']\n",
      "{'hey!,': 1, 'wendy': 2, 'is': 2, 'not': 1, 'allowed': 2, 'to': 2, 'play': 2, 'in': 2, 'the': 2, 'rain.': 1, 'however,': 1, 'room': 1}\n"
     ]
    }
   ],
   "source": [
    "print (word_frequency(\" Hey!, Wendy is not allowed to play in the rain. However, wendy is allowed to play in the room\"))\n"
   ]
  },
  {
   "cell_type": "code",
   "execution_count": 82,
   "metadata": {},
   "outputs": [],
   "source": [
    "def simple_calculator(num1, num2, operator):\n",
    "       \n",
    "       if operator == '+':\n",
    "           return num1 + num2\n",
    "       elif operator == '-':\n",
    "            return num1 - num2\n",
    "       elif  operator == '*':\n",
    "            return num1 * num2\n",
    "       elif operator == '/':\n",
    "         if num2 > 0: \n",
    "            return num1 / num2\n",
    "         else: \n",
    "              return \"Cannot divide by zero\"\n",
    "     \n",
    "       else:\n",
    "              return ' Invalid operator'\n",
    "\n"
   ]
  },
  {
   "cell_type": "code",
   "execution_count": 81,
   "metadata": {},
   "outputs": [
    {
     "name": "stdout",
     "output_type": "stream",
     "text": [
      "15\n",
      "5\n",
      "50\n",
      "Cannot divid by zero\n",
      "2.0\n",
      " Invalid operator\n"
     ]
    }
   ],
   "source": [
    "result1 = simple_calculator(10, 5, '+')\n",
    "result2 = simple_calculator(10, 5, '-')\n",
    "result3 = simple_calculator(10, 5, '*')\n",
    "result4 = simple_calculator(10, 0, '/')\n",
    "result5 = simple_calculator(10, 5, '/')\n",
    "result6 = simple_calculator(10, 5, '**')\n",
    "\n",
    "print(result1)\n",
    "print(result2)\n",
    "print(result3)\n",
    "print(result4)\n",
    "print(result5)\n",
    "print(result6)\n",
    "print(\"this is test\")"
   ]
  },
  {
   "cell_type": "code",
   "execution_count": 118,
   "metadata": {},
   "outputs": [],
   "source": [
    "def validate_and_convert(data, expected_type):\n",
    "  if type(data) == expected_type:\n",
    "        return data\n",
    "  try:\n",
    "          return expected_type(data)\n",
    "  except:\n",
    "          return f\"Cannot convert {data} to {expected_type}\"\n",
    "\n",
    "\n",
    "\n"
   ]
  },
  {
   "cell_type": "code",
   "execution_count": 119,
   "metadata": {},
   "outputs": [
    {
     "name": "stdout",
     "output_type": "stream",
     "text": [
      "123\n",
      "20.12\n",
      "Cannot convert onut to <class 'int'>\n",
      "123\n",
      "20.12\n"
     ]
    }
   ],
   "source": [
    "\n",
    "\n",
    "result1 = validate_and_convert(\"123\", int)\n",
    "result2 = validate_and_convert(20.12, float)\n",
    "result3 = validate_and_convert(\"onut\", int)\n",
    "result4 = validate_and_convert(123, str)\n",
    "result5 = validate_and_convert(\"20.12\", float)\n",
    "\n",
    "print(result1)\n",
    "print(result2)\n",
    "print(result3)\n",
    "print(result4)\n",
    "print(result5)\n",
    "\n",
    "\n",
    "\n",
    "\n",
    "\n",
    "\n"
   ]
  },
  {
   "cell_type": "code",
   "execution_count": 156,
   "metadata": {},
   "outputs": [
    {
     "name": "stdout",
     "output_type": "stream",
     "text": [
      "celsius\n",
      "93.2F\n"
     ]
    }
   ],
   "source": [
    "\n",
    "def convert_temperature(value, units):\n",
    "    if(units == \"celsius\"):\n",
    "         return str(value * 9/5 + 32) + \"F\"\n",
    "    elif (units == \"fahrenheit\"):\n",
    "         return str((value - 32) * (5/9)) + \"C\"\n",
    "    else :\n",
    "         return \"invalid unit\"\n",
    "\n",
    "print(convert_to_Fahreint(34, \"celsius\"))\n",
    "# convert_to_Fahreint(93.2, \"fahrenheit\")\n",
    "# convert_to_Fahreint(93.2, \"fff\")\n",
    "\n"
   ]
  }
 ],
 "metadata": {
  "kernelspec": {
   "display_name": "Python 3",
   "language": "python",
   "name": "python3"
  },
  "language_info": {
   "codemirror_mode": {
    "name": "ipython",
    "version": 3
   },
   "file_extension": ".py",
   "mimetype": "text/x-python",
   "name": "python",
   "nbconvert_exporter": "python",
   "pygments_lexer": "ipython3",
   "version": "3.12.5"
  }
 },
 "nbformat": 4,
 "nbformat_minor": 2
}
